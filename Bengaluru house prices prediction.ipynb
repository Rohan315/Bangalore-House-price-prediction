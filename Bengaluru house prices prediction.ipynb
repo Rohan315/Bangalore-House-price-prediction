{
    "cells": [
        {
            "cell_type": "code",
            "execution_count": 2,
            "metadata": {},
            "outputs": [],
            "source": "import seaborn as sns\n\n%matplotlib inline"
        },
        {
            "cell_type": "code",
            "execution_count": 3,
            "metadata": {},
            "outputs": [],
            "source": "import numpy as np\nimport matplotlib.pyplot as plt\nimport pandas as pd\nimport math\nfrom sklearn.preprocessing import PolynomialFeatures, OneHotEncoder\nfrom sklearn.linear_model import LinearRegression\nfrom sklearn.model_selection import cross_val_score\nfrom sklearn.metrics import mean_squared_error, r2_score\nfrom sklearn.ensemble import GradientBoostingRegressor"
        },
        {
            "cell_type": "markdown",
            "metadata": {},
            "source": "<H3>Importing train and test data kept on cloud in same path as the notebook</H3>"
        },
        {
            "cell_type": "code",
            "execution_count": 4,
            "metadata": {},
            "outputs": [],
            "source": "# The code was removed by Watson Studio for sharing."
        },
        {
            "cell_type": "code",
            "execution_count": 5,
            "metadata": {},
            "outputs": [
                {
                    "data": {
                        "text/html": "<div>\n<style scoped>\n    .dataframe tbody tr th:only-of-type {\n        vertical-align: middle;\n    }\n\n    .dataframe tbody tr th {\n        vertical-align: top;\n    }\n\n    .dataframe thead th {\n        text-align: right;\n    }\n</style>\n<table border=\"1\" class=\"dataframe\">\n  <thead>\n    <tr style=\"text-align: right;\">\n      <th></th>\n      <th>area_type</th>\n      <th>availability</th>\n      <th>location</th>\n      <th>size</th>\n      <th>society</th>\n      <th>total_sqft</th>\n      <th>bath</th>\n      <th>balcony</th>\n      <th>price</th>\n    </tr>\n  </thead>\n  <tbody>\n    <tr>\n      <th>0</th>\n      <td>6.0</td>\n      <td>Unavailable</td>\n      <td>Electronic City Phase II</td>\n      <td>2.0</td>\n      <td>Coomee</td>\n      <td>1056.0</td>\n      <td>2.0</td>\n      <td>1.0</td>\n      <td>39.07</td>\n    </tr>\n    <tr>\n      <th>1</th>\n      <td>10.0</td>\n      <td>Ready To Move</td>\n      <td>Chikka Tirupathi</td>\n      <td>4.0</td>\n      <td>Theanmp</td>\n      <td>2600.0</td>\n      <td>5.0</td>\n      <td>3.0</td>\n      <td>120.00</td>\n    </tr>\n    <tr>\n      <th>2</th>\n      <td>2.0</td>\n      <td>Ready To Move</td>\n      <td>Uttarahalli</td>\n      <td>3.0</td>\n      <td>u</td>\n      <td>1440.0</td>\n      <td>2.0</td>\n      <td>3.0</td>\n      <td>62.00</td>\n    </tr>\n    <tr>\n      <th>3</th>\n      <td>6.0</td>\n      <td>Ready To Move</td>\n      <td>Lingadheeranahalli</td>\n      <td>3.0</td>\n      <td>Soiewre</td>\n      <td>1521.0</td>\n      <td>3.0</td>\n      <td>1.0</td>\n      <td>95.00</td>\n    </tr>\n    <tr>\n      <th>4</th>\n      <td>6.0</td>\n      <td>Ready To Move</td>\n      <td>Kothanur</td>\n      <td>2.0</td>\n      <td>u</td>\n      <td>1200.0</td>\n      <td>2.0</td>\n      <td>1.0</td>\n      <td>51.00</td>\n    </tr>\n  </tbody>\n</table>\n</div>",
                        "text/plain": "   area_type   availability                  location  size  society  \\\n0        6.0   Unavailable   Electronic City Phase II   2.0  Coomee    \n1       10.0  Ready To Move          Chikka Tirupathi   4.0  Theanmp   \n2        2.0  Ready To Move               Uttarahalli   3.0        u   \n3        6.0  Ready To Move        Lingadheeranahalli   3.0  Soiewre   \n4        6.0  Ready To Move                  Kothanur   2.0        u   \n\n   total_sqft  bath  balcony   price  \n0      1056.0   2.0      1.0   39.07  \n1      2600.0   5.0      3.0  120.00  \n2      1440.0   2.0      3.0   62.00  \n3      1521.0   3.0      1.0   95.00  \n4      1200.0   2.0      1.0   51.00  "
                    },
                    "execution_count": 5,
                    "metadata": {},
                    "output_type": "execute_result"
                }
            ],
            "source": "df.head()  #train data"
        },
        {
            "cell_type": "code",
            "execution_count": 6,
            "metadata": {},
            "outputs": [
                {
                    "data": {
                        "text/html": "<div>\n<style scoped>\n    .dataframe tbody tr th:only-of-type {\n        vertical-align: middle;\n    }\n\n    .dataframe tbody tr th {\n        vertical-align: top;\n    }\n\n    .dataframe thead th {\n        text-align: right;\n    }\n</style>\n<table border=\"1\" class=\"dataframe\">\n  <thead>\n    <tr style=\"text-align: right;\">\n      <th></th>\n      <th>area_type</th>\n      <th>availability</th>\n      <th>location</th>\n      <th>size</th>\n      <th>society</th>\n      <th>total_sqft</th>\n      <th>bath</th>\n      <th>balcony</th>\n      <th>price</th>\n    </tr>\n  </thead>\n  <tbody>\n    <tr>\n      <th>0</th>\n      <td>6.0</td>\n      <td>Ready To Move</td>\n      <td>Brookefield</td>\n      <td>2.0</td>\n      <td>Roeekbl</td>\n      <td>1225.0</td>\n      <td>2.0</td>\n      <td>2.0</td>\n      <td>NaN</td>\n    </tr>\n    <tr>\n      <th>1</th>\n      <td>10.0</td>\n      <td>Ready To Move</td>\n      <td>Akshaya Nagar</td>\n      <td>9.0</td>\n      <td>u</td>\n      <td>2400.0</td>\n      <td>9.0</td>\n      <td>2.0</td>\n      <td>NaN</td>\n    </tr>\n    <tr>\n      <th>2</th>\n      <td>10.0</td>\n      <td>Unavailable</td>\n      <td>Hennur Road</td>\n      <td>4.0</td>\n      <td>Saandtt</td>\n      <td>1650.0</td>\n      <td>5.0</td>\n      <td>2.0</td>\n      <td>NaN</td>\n    </tr>\n    <tr>\n      <th>3</th>\n      <td>6.0</td>\n      <td>Ready To Move</td>\n      <td>Kodichikkanahalli</td>\n      <td>3.0</td>\n      <td>Winerri</td>\n      <td>1322.0</td>\n      <td>3.0</td>\n      <td>1.0</td>\n      <td>NaN</td>\n    </tr>\n    <tr>\n      <th>4</th>\n      <td>6.0</td>\n      <td>Ready To Move</td>\n      <td>Konanakunte</td>\n      <td>2.0</td>\n      <td>AmageSa</td>\n      <td>1161.0</td>\n      <td>2.0</td>\n      <td>1.0</td>\n      <td>NaN</td>\n    </tr>\n  </tbody>\n</table>\n</div>",
                        "text/plain": "   area_type   availability           location  size  society  total_sqft  \\\n0        6.0  Ready To Move        Brookefield   2.0  Roeekbl      1225.0   \n1       10.0  Ready To Move      Akshaya Nagar   9.0        u      2400.0   \n2       10.0    Unavailable        Hennur Road   4.0  Saandtt      1650.0   \n3        6.0  Ready To Move  Kodichikkanahalli   3.0  Winerri      1322.0   \n4        6.0  Ready To Move        Konanakunte   2.0  AmageSa      1161.0   \n\n   bath  balcony  price  \n0   2.0      2.0    NaN  \n1   9.0      2.0    NaN  \n2   5.0      2.0    NaN  \n3   3.0      1.0    NaN  \n4   2.0      1.0    NaN  "
                    },
                    "execution_count": 6,
                    "metadata": {},
                    "output_type": "execute_result"
                }
            ],
            "source": "df1.head()  #test data"
        },
        {
            "cell_type": "code",
            "execution_count": 7,
            "metadata": {},
            "outputs": [
                {
                    "data": {
                        "text/plain": "(13373, 9)"
                    },
                    "execution_count": 7,
                    "metadata": {},
                    "output_type": "execute_result"
                }
            ],
            "source": "df.shape\n"
        },
        {
            "cell_type": "code",
            "execution_count": null,
            "metadata": {},
            "outputs": [],
            "source": ""
        },
        {
            "cell_type": "markdown",
            "metadata": {},
            "source": "<H4>By looking at first rows i found out that the column society contains can be dropped as it is deficit in data. Also availability is of no use in predicting prices</H4>\n<H4>1. Moreover if we prefer deleting rows where Society value = NaN or Null, most of the data will be lost thus columnn dropping seems better idea</H4>\n<H4>2. Also it contains string values and it will be beneficial to drop it</H4>"
        },
        {
            "cell_type": "code",
            "execution_count": 8,
            "metadata": {},
            "outputs": [],
            "source": "#df.head(300)\ndf.drop(['society'], 1, inplace=True)\ndf.drop(['availability'],1, inplace=True)\n\ndf1.drop(['society', 'availability', 'price'], 1, inplace=True)"
        },
        {
            "cell_type": "code",
            "execution_count": 9,
            "metadata": {},
            "outputs": [
                {
                    "data": {
                        "text/html": "<div>\n<style scoped>\n    .dataframe tbody tr th:only-of-type {\n        vertical-align: middle;\n    }\n\n    .dataframe tbody tr th {\n        vertical-align: top;\n    }\n\n    .dataframe thead th {\n        text-align: right;\n    }\n</style>\n<table border=\"1\" class=\"dataframe\">\n  <thead>\n    <tr style=\"text-align: right;\">\n      <th></th>\n      <th>area_type</th>\n      <th>location</th>\n      <th>size</th>\n      <th>total_sqft</th>\n      <th>bath</th>\n      <th>balcony</th>\n      <th>price</th>\n    </tr>\n  </thead>\n  <tbody>\n    <tr>\n      <th>0</th>\n      <td>6.0</td>\n      <td>Electronic City Phase II</td>\n      <td>2.0</td>\n      <td>1056.0</td>\n      <td>2.0</td>\n      <td>1.0</td>\n      <td>39.07</td>\n    </tr>\n    <tr>\n      <th>1</th>\n      <td>10.0</td>\n      <td>Chikka Tirupathi</td>\n      <td>4.0</td>\n      <td>2600.0</td>\n      <td>5.0</td>\n      <td>3.0</td>\n      <td>120.00</td>\n    </tr>\n    <tr>\n      <th>2</th>\n      <td>2.0</td>\n      <td>Uttarahalli</td>\n      <td>3.0</td>\n      <td>1440.0</td>\n      <td>2.0</td>\n      <td>3.0</td>\n      <td>62.00</td>\n    </tr>\n  </tbody>\n</table>\n</div>",
                        "text/plain": "   area_type                  location  size  total_sqft  bath  balcony  \\\n0        6.0  Electronic City Phase II   2.0      1056.0   2.0      1.0   \n1       10.0          Chikka Tirupathi   4.0      2600.0   5.0      3.0   \n2        2.0               Uttarahalli   3.0      1440.0   2.0      3.0   \n\n    price  \n0   39.07  \n1  120.00  \n2   62.00  "
                    },
                    "execution_count": 9,
                    "metadata": {},
                    "output_type": "execute_result"
                }
            ],
            "source": "df.head(3)"
        },
        {
            "cell_type": "code",
            "execution_count": 10,
            "metadata": {},
            "outputs": [
                {
                    "data": {
                        "text/html": "<div>\n<style scoped>\n    .dataframe tbody tr th:only-of-type {\n        vertical-align: middle;\n    }\n\n    .dataframe tbody tr th {\n        vertical-align: top;\n    }\n\n    .dataframe thead th {\n        text-align: right;\n    }\n</style>\n<table border=\"1\" class=\"dataframe\">\n  <thead>\n    <tr style=\"text-align: right;\">\n      <th></th>\n      <th>area_type</th>\n      <th>size</th>\n      <th>total_sqft</th>\n      <th>bath</th>\n      <th>balcony</th>\n      <th>price</th>\n    </tr>\n  </thead>\n  <tbody>\n    <tr>\n      <th>count</th>\n      <td>13320.000000</td>\n      <td>13320.000000</td>\n      <td>1.332000e+04</td>\n      <td>13320.000000</td>\n      <td>13320.000000</td>\n      <td>13320.000000</td>\n    </tr>\n    <tr>\n      <th>mean</th>\n      <td>5.888514</td>\n      <td>2.800375</td>\n      <td>1.924474e+03</td>\n      <td>2.677853</td>\n      <td>1.511937</td>\n      <td>112.565627</td>\n    </tr>\n    <tr>\n      <th>std</th>\n      <td>2.308991</td>\n      <td>1.297835</td>\n      <td>1.838166e+04</td>\n      <td>1.352467</td>\n      <td>0.864240</td>\n      <td>148.971674</td>\n    </tr>\n    <tr>\n      <th>min</th>\n      <td>2.000000</td>\n      <td>0.000000</td>\n      <td>1.000000e+00</td>\n      <td>0.000000</td>\n      <td>0.000000</td>\n      <td>8.000000</td>\n    </tr>\n    <tr>\n      <th>25%</th>\n      <td>6.000000</td>\n      <td>2.000000</td>\n      <td>1.100000e+03</td>\n      <td>2.000000</td>\n      <td>1.000000</td>\n      <td>50.000000</td>\n    </tr>\n    <tr>\n      <th>50%</th>\n      <td>6.000000</td>\n      <td>3.000000</td>\n      <td>1.275000e+03</td>\n      <td>2.000000</td>\n      <td>2.000000</td>\n      <td>72.000000</td>\n    </tr>\n    <tr>\n      <th>75%</th>\n      <td>6.000000</td>\n      <td>3.000000</td>\n      <td>1.680000e+03</td>\n      <td>3.000000</td>\n      <td>2.000000</td>\n      <td>120.000000</td>\n    </tr>\n    <tr>\n      <th>max</th>\n      <td>10.000000</td>\n      <td>43.000000</td>\n      <td>1.336500e+06</td>\n      <td>40.000000</td>\n      <td>3.000000</td>\n      <td>3600.000000</td>\n    </tr>\n  </tbody>\n</table>\n</div>",
                        "text/plain": "          area_type          size    total_sqft          bath       balcony  \\\ncount  13320.000000  13320.000000  1.332000e+04  13320.000000  13320.000000   \nmean       5.888514      2.800375  1.924474e+03      2.677853      1.511937   \nstd        2.308991      1.297835  1.838166e+04      1.352467      0.864240   \nmin        2.000000      0.000000  1.000000e+00      0.000000      0.000000   \n25%        6.000000      2.000000  1.100000e+03      2.000000      1.000000   \n50%        6.000000      3.000000  1.275000e+03      2.000000      2.000000   \n75%        6.000000      3.000000  1.680000e+03      3.000000      2.000000   \nmax       10.000000     43.000000  1.336500e+06     40.000000      3.000000   \n\n              price  \ncount  13320.000000  \nmean     112.565627  \nstd      148.971674  \nmin        8.000000  \n25%       50.000000  \n50%       72.000000  \n75%      120.000000  \nmax     3600.000000  "
                    },
                    "execution_count": 10,
                    "metadata": {},
                    "output_type": "execute_result"
                }
            ],
            "source": "df.describe()"
        },
        {
            "cell_type": "code",
            "execution_count": 11,
            "metadata": {},
            "outputs": [
                {
                    "data": {
                        "image/png": "[encoded data removed]",
                        "text/plain": "<Figure size 432x288 with 6 Axes>"
                    },
                    "metadata": {
                        "needs_background": "light"
                    },
                    "output_type": "display_data"
                }
            ],
            "source": "viz = df[['area_type','size','total_sqft','bath','balcony','price']]\nviz.hist()\nplt.show()"
        },
        {
            "cell_type": "code",
            "execution_count": 13,
            "metadata": {},
            "outputs": [
                {
                    "name": "stdout",
                    "output_type": "stream",
                    "text": "Solving environment: done\n\n## Package Plan ##\n\n  environment location: /opt/conda/envs/Python36\n\n  added / updated specs: \n    - plotly\n\n\nThe following packages will be downloaded:\n\n    package                    |            build\n    ---------------------------|-----------------\n    plotly-4.7.1               |             py_0         4.7 MB\n\nThe following packages will be UPDATED:\n\n    plotly: 3.6.1-py36_0 --> 4.7.1-py_0\n\n\nDownloading and Extracting Packages\nplotly-4.7.1         | 4.7 MB    | ##################################### | 100% \nPreparing transaction: done\nVerifying transaction: done\nExecuting transaction: done\n"
                }
            ],
            "source": "! conda install \"plotly\""
        },
        {
            "cell_type": "code",
            "execution_count": 21,
            "metadata": {},
            "outputs": [
                {
                    "name": "stdout",
                    "output_type": "stream",
                    "text": "<class 'pandas.core.frame.DataFrame'>\nRangeIndex: 13373 entries, 0 to 13372\nData columns (total 7 columns):\narea_type     13320 non-null float64\nlocation      13372 non-null object\nsize          13320 non-null float64\ntotal_sqft    13320 non-null float64\nbath          13320 non-null float64\nbalcony       13320 non-null float64\nprice         13320 non-null float64\ndtypes: float64(6), object(1)\nmemory usage: 731.4+ KB\n"
                }
            ],
            "source": "df.info()      #total rows are 13373"
        },
        {
            "cell_type": "code",
            "execution_count": 22,
            "metadata": {},
            "outputs": [
                {
                    "data": {
                        "text/plain": "area_type     53\nlocation       1\nsize          53\ntotal_sqft    53\nbath          53\nbalcony       53\nprice         53\ndtype: int64"
                    },
                    "execution_count": 22,
                    "metadata": {},
                    "output_type": "execute_result"
                }
            ],
            "source": "df.isnull().sum()# this tells us how many rows contain null or no value for each column"
        },
        {
            "cell_type": "code",
            "execution_count": 23,
            "metadata": {},
            "outputs": [
                {
                    "data": {
                        "text/html": "<div>\n<style scoped>\n    .dataframe tbody tr th:only-of-type {\n        vertical-align: middle;\n    }\n\n    .dataframe tbody tr th {\n        vertical-align: top;\n    }\n\n    .dataframe thead th {\n        text-align: right;\n    }\n</style>\n<table border=\"1\" class=\"dataframe\">\n  <thead>\n    <tr style=\"text-align: right;\">\n      <th></th>\n      <th>area_type</th>\n      <th>location</th>\n      <th>size</th>\n      <th>total_sqft</th>\n      <th>bath</th>\n      <th>balcony</th>\n      <th>price</th>\n    </tr>\n  </thead>\n  <tbody>\n    <tr>\n      <th>13371</th>\n      <td>NaN</td>\n      <td>Kalidasa Layout</td>\n      <td>NaN</td>\n      <td>NaN</td>\n      <td>NaN</td>\n      <td>NaN</td>\n      <td>NaN</td>\n    </tr>\n    <tr>\n      <th>13372</th>\n      <td>NaN</td>\n      <td>Muni reddy layout</td>\n      <td>NaN</td>\n      <td>NaN</td>\n      <td>NaN</td>\n      <td>NaN</td>\n      <td>NaN</td>\n    </tr>\n  </tbody>\n</table>\n</div>",
                        "text/plain": "       area_type           location  size  total_sqft  bath  balcony  price\n13371        NaN    Kalidasa Layout   NaN         NaN   NaN      NaN    NaN\n13372        NaN  Muni reddy layout   NaN         NaN   NaN      NaN    NaN"
                    },
                    "execution_count": 23,
                    "metadata": {},
                    "output_type": "execute_result"
                }
            ],
            "source": "df.tail(2)   # here we observe the data at end contains only location value, i used hit and trial to see last 54 rows"
        },
        {
            "cell_type": "code",
            "execution_count": 24,
            "metadata": {},
            "outputs": [],
            "source": "df = pd.get_dummies(data=df, columns=['location']) # converting categorical values to quatitative values\ndf1 = pd.get_dummies(data=df1, columns=['location'])"
        },
        {
            "cell_type": "code",
            "execution_count": 25,
            "metadata": {},
            "outputs": [
                {
                    "data": {
                        "text/plain": "(13320, 1364)"
                    },
                    "execution_count": 25,
                    "metadata": {},
                    "output_type": "execute_result"
                }
            ],
            "source": "df = df.dropna(axis=0)\ndf1 = df1.dropna(axis=0) # removing all the rows which contain null or no values\ndf.shape"
        },
        {
            "cell_type": "code",
            "execution_count": 31,
            "metadata": {},
            "outputs": [],
            "source": "X = np.array(df.drop(['price'], 1)) #predictor variable used to predict \ny = np.array(df['price']) #target variable which we need to calculate\n#y = 1 - np.log(y)"
        },
        {
            "cell_type": "code",
            "execution_count": 32,
            "metadata": {},
            "outputs": [],
            "source": "X_test = np.array(df1) # test data given to find output"
        },
        {
            "cell_type": "code",
            "execution_count": 34,
            "metadata": {},
            "outputs": [
                {
                    "data": {
                        "text/html": "<div>\n<style scoped>\n    .dataframe tbody tr th:only-of-type {\n        vertical-align: middle;\n    }\n\n    .dataframe tbody tr th {\n        vertical-align: top;\n    }\n\n    .dataframe thead th {\n        text-align: right;\n    }\n</style>\n<table border=\"1\" class=\"dataframe\">\n  <thead>\n    <tr style=\"text-align: right;\">\n      <th></th>\n      <th>0</th>\n    </tr>\n  </thead>\n  <tbody>\n    <tr>\n      <th>0</th>\n      <td>61.299316</td>\n    </tr>\n    <tr>\n      <th>1</th>\n      <td>222.305081</td>\n    </tr>\n    <tr>\n      <th>2</th>\n      <td>230.642676</td>\n    </tr>\n    <tr>\n      <th>3</th>\n      <td>79.797182</td>\n    </tr>\n    <tr>\n      <th>4</th>\n      <td>82.251173</td>\n    </tr>\n    <tr>\n      <th>5</th>\n      <td>168.061852</td>\n    </tr>\n    <tr>\n      <th>6</th>\n      <td>319.916348</td>\n    </tr>\n    <tr>\n      <th>7</th>\n      <td>69.037434</td>\n    </tr>\n    <tr>\n      <th>8</th>\n      <td>95.419245</td>\n    </tr>\n    <tr>\n      <th>9</th>\n      <td>123.273615</td>\n    </tr>\n    <tr>\n      <th>10</th>\n      <td>101.270083</td>\n    </tr>\n    <tr>\n      <th>11</th>\n      <td>153.225832</td>\n    </tr>\n    <tr>\n      <th>12</th>\n      <td>264.866668</td>\n    </tr>\n    <tr>\n      <th>13</th>\n      <td>54.832225</td>\n    </tr>\n    <tr>\n      <th>14</th>\n      <td>83.921044</td>\n    </tr>\n    <tr>\n      <th>15</th>\n      <td>254.231560</td>\n    </tr>\n    <tr>\n      <th>16</th>\n      <td>29.047235</td>\n    </tr>\n    <tr>\n      <th>17</th>\n      <td>51.140577</td>\n    </tr>\n    <tr>\n      <th>18</th>\n      <td>117.314784</td>\n    </tr>\n    <tr>\n      <th>19</th>\n      <td>249.707431</td>\n    </tr>\n    <tr>\n      <th>20</th>\n      <td>30.067919</td>\n    </tr>\n    <tr>\n      <th>21</th>\n      <td>91.035791</td>\n    </tr>\n    <tr>\n      <th>22</th>\n      <td>96.039343</td>\n    </tr>\n    <tr>\n      <th>23</th>\n      <td>53.839558</td>\n    </tr>\n    <tr>\n      <th>24</th>\n      <td>115.180105</td>\n    </tr>\n    <tr>\n      <th>25</th>\n      <td>126.163180</td>\n    </tr>\n    <tr>\n      <th>26</th>\n      <td>88.412186</td>\n    </tr>\n    <tr>\n      <th>27</th>\n      <td>92.929575</td>\n    </tr>\n    <tr>\n      <th>28</th>\n      <td>43.644652</td>\n    </tr>\n    <tr>\n      <th>29</th>\n      <td>95.177534</td>\n    </tr>\n    <tr>\n      <th>...</th>\n      <td>...</td>\n    </tr>\n    <tr>\n      <th>1450</th>\n      <td>39.373226</td>\n    </tr>\n    <tr>\n      <th>1451</th>\n      <td>354.406526</td>\n    </tr>\n    <tr>\n      <th>1452</th>\n      <td>58.867517</td>\n    </tr>\n    <tr>\n      <th>1453</th>\n      <td>70.439047</td>\n    </tr>\n    <tr>\n      <th>1454</th>\n      <td>43.526211</td>\n    </tr>\n    <tr>\n      <th>1455</th>\n      <td>76.267125</td>\n    </tr>\n    <tr>\n      <th>1456</th>\n      <td>55.058495</td>\n    </tr>\n    <tr>\n      <th>1457</th>\n      <td>57.870207</td>\n    </tr>\n    <tr>\n      <th>1458</th>\n      <td>147.173508</td>\n    </tr>\n    <tr>\n      <th>1459</th>\n      <td>69.640591</td>\n    </tr>\n    <tr>\n      <th>1460</th>\n      <td>55.601737</td>\n    </tr>\n    <tr>\n      <th>1461</th>\n      <td>48.582314</td>\n    </tr>\n    <tr>\n      <th>1462</th>\n      <td>30.067919</td>\n    </tr>\n    <tr>\n      <th>1463</th>\n      <td>57.252034</td>\n    </tr>\n    <tr>\n      <th>1464</th>\n      <td>30.067919</td>\n    </tr>\n    <tr>\n      <th>1465</th>\n      <td>106.675427</td>\n    </tr>\n    <tr>\n      <th>1466</th>\n      <td>242.656254</td>\n    </tr>\n    <tr>\n      <th>1467</th>\n      <td>112.836807</td>\n    </tr>\n    <tr>\n      <th>1468</th>\n      <td>64.931565</td>\n    </tr>\n    <tr>\n      <th>1469</th>\n      <td>210.707554</td>\n    </tr>\n    <tr>\n      <th>1470</th>\n      <td>47.164154</td>\n    </tr>\n    <tr>\n      <th>1471</th>\n      <td>107.538087</td>\n    </tr>\n    <tr>\n      <th>1472</th>\n      <td>83.927388</td>\n    </tr>\n    <tr>\n      <th>1473</th>\n      <td>674.308960</td>\n    </tr>\n    <tr>\n      <th>1474</th>\n      <td>488.799509</td>\n    </tr>\n    <tr>\n      <th>1475</th>\n      <td>58.841287</td>\n    </tr>\n    <tr>\n      <th>1476</th>\n      <td>80.728340</td>\n    </tr>\n    <tr>\n      <th>1477</th>\n      <td>40.093777</td>\n    </tr>\n    <tr>\n      <th>1478</th>\n      <td>49.875368</td>\n    </tr>\n    <tr>\n      <th>1479</th>\n      <td>60.789733</td>\n    </tr>\n  </tbody>\n</table>\n<p>1480 rows \u00d7 1 columns</p>\n</div>",
                        "text/plain": "               0\n0      61.299316\n1     222.305081\n2     230.642676\n3      79.797182\n4      82.251173\n5     168.061852\n6     319.916348\n7      69.037434\n8      95.419245\n9     123.273615\n10    101.270083\n11    153.225832\n12    264.866668\n13     54.832225\n14     83.921044\n15    254.231560\n16     29.047235\n17     51.140577\n18    117.314784\n19    249.707431\n20     30.067919\n21     91.035791\n22     96.039343\n23     53.839558\n24    115.180105\n25    126.163180\n26     88.412186\n27     92.929575\n28     43.644652\n29     95.177534\n...          ...\n1450   39.373226\n1451  354.406526\n1452   58.867517\n1453   70.439047\n1454   43.526211\n1455   76.267125\n1456   55.058495\n1457   57.870207\n1458  147.173508\n1459   69.640591\n1460   55.601737\n1461   48.582314\n1462   30.067919\n1463   57.252034\n1464   30.067919\n1465  106.675427\n1466  242.656254\n1467  112.836807\n1468   64.931565\n1469  210.707554\n1470   47.164154\n1471  107.538087\n1472   83.927388\n1473  674.308960\n1474  488.799509\n1475   58.841287\n1476   80.728340\n1477   40.093777\n1478   49.875368\n1479   60.789733\n\n[1480 rows x 1 columns]"
                    },
                    "execution_count": 34,
                    "metadata": {},
                    "output_type": "execute_result"
                }
            ],
            "source": "\n# n=250, max_depth=15, min_samples_split=30, learning_rate=0.1, max_features =150,\n# subsample 0.94, max_leaf_nodes=41.\nclf1 = GradientBoostingRegressor(n_estimators=500, max_depth = 15, min_samples_split = 30,\n                                 learning_rate = 0.1, max_features=5, subsample = 0.94, \n                                 random_state=3, max_leaf_nodes=41)\n\n# fit the trained model to the dataset\nclf1.fit(X,y)\n\n# Now predict the price values in the test dataset.\nprediction = clf1.predict(X_test)\n#actual_prediction = np.exp(1-prediction)\ndf4=pd.DataFrame(prediction)\n#df4.to_csv('final_output7_house_price.csv')\ndf4"
        },
        {
            "cell_type": "code",
            "execution_count": 35,
            "metadata": {},
            "outputs": [
                {
                    "data": {
                        "text/html": "<div>\n<style scoped>\n    .dataframe tbody tr th:only-of-type {\n        vertical-align: middle;\n    }\n\n    .dataframe tbody tr th {\n        vertical-align: top;\n    }\n\n    .dataframe thead th {\n        text-align: right;\n    }\n</style>\n<table border=\"1\" class=\"dataframe\">\n  <thead>\n    <tr style=\"text-align: right;\">\n      <th></th>\n      <th>0</th>\n    </tr>\n  </thead>\n  <tbody>\n    <tr>\n      <th>0</th>\n      <td>36.817392</td>\n    </tr>\n    <tr>\n      <th>1</th>\n      <td>176.634912</td>\n    </tr>\n    <tr>\n      <th>2</th>\n      <td>55.936217</td>\n    </tr>\n    <tr>\n      <th>3</th>\n      <td>98.801218</td>\n    </tr>\n    <tr>\n      <th>4</th>\n      <td>52.458492</td>\n    </tr>\n    <tr>\n      <th>5</th>\n      <td>48.545697</td>\n    </tr>\n    <tr>\n      <th>6</th>\n      <td>234.476812</td>\n    </tr>\n    <tr>\n      <th>7</th>\n      <td>461.159538</td>\n    </tr>\n    <tr>\n      <th>8</th>\n      <td>92.976956</td>\n    </tr>\n    <tr>\n      <th>9</th>\n      <td>270.401465</td>\n    </tr>\n    <tr>\n      <th>10</th>\n      <td>97.201157</td>\n    </tr>\n    <tr>\n      <th>11</th>\n      <td>309.933186</td>\n    </tr>\n    <tr>\n      <th>12</th>\n      <td>54.244804</td>\n    </tr>\n    <tr>\n      <th>13</th>\n      <td>33.755307</td>\n    </tr>\n    <tr>\n      <th>14</th>\n      <td>131.561562</td>\n    </tr>\n    <tr>\n      <th>15</th>\n      <td>49.893222</td>\n    </tr>\n    <tr>\n      <th>16</th>\n      <td>64.093376</td>\n    </tr>\n    <tr>\n      <th>17</th>\n      <td>73.243865</td>\n    </tr>\n    <tr>\n      <th>18</th>\n      <td>457.185606</td>\n    </tr>\n    <tr>\n      <th>19</th>\n      <td>59.119227</td>\n    </tr>\n    <tr>\n      <th>20</th>\n      <td>16.300424</td>\n    </tr>\n    <tr>\n      <th>21</th>\n      <td>130.377407</td>\n    </tr>\n    <tr>\n      <th>22</th>\n      <td>270.079241</td>\n    </tr>\n    <tr>\n      <th>23</th>\n      <td>98.791705</td>\n    </tr>\n    <tr>\n      <th>24</th>\n      <td>52.013796</td>\n    </tr>\n    <tr>\n      <th>25</th>\n      <td>81.963501</td>\n    </tr>\n    <tr>\n      <th>26</th>\n      <td>27.917449</td>\n    </tr>\n    <tr>\n      <th>27</th>\n      <td>91.383053</td>\n    </tr>\n    <tr>\n      <th>28</th>\n      <td>63.779604</td>\n    </tr>\n    <tr>\n      <th>29</th>\n      <td>47.461926</td>\n    </tr>\n    <tr>\n      <th>...</th>\n      <td>...</td>\n    </tr>\n    <tr>\n      <th>13290</th>\n      <td>310.318596</td>\n    </tr>\n    <tr>\n      <th>13291</th>\n      <td>60.803219</td>\n    </tr>\n    <tr>\n      <th>13292</th>\n      <td>69.490500</td>\n    </tr>\n    <tr>\n      <th>13293</th>\n      <td>226.819529</td>\n    </tr>\n    <tr>\n      <th>13294</th>\n      <td>145.037950</td>\n    </tr>\n    <tr>\n      <th>13295</th>\n      <td>99.761337</td>\n    </tr>\n    <tr>\n      <th>13296</th>\n      <td>95.530665</td>\n    </tr>\n    <tr>\n      <th>13297</th>\n      <td>40.660303</td>\n    </tr>\n    <tr>\n      <th>13298</th>\n      <td>46.427298</td>\n    </tr>\n    <tr>\n      <th>13299</th>\n      <td>218.178086</td>\n    </tr>\n    <tr>\n      <th>13300</th>\n      <td>218.067292</td>\n    </tr>\n    <tr>\n      <th>13301</th>\n      <td>82.329302</td>\n    </tr>\n    <tr>\n      <th>13302</th>\n      <td>39.216660</td>\n    </tr>\n    <tr>\n      <th>13303</th>\n      <td>137.849293</td>\n    </tr>\n    <tr>\n      <th>13304</th>\n      <td>45.909609</td>\n    </tr>\n    <tr>\n      <th>13305</th>\n      <td>72.299309</td>\n    </tr>\n    <tr>\n      <th>13306</th>\n      <td>229.954395</td>\n    </tr>\n    <tr>\n      <th>13307</th>\n      <td>93.475130</td>\n    </tr>\n    <tr>\n      <th>13308</th>\n      <td>92.771217</td>\n    </tr>\n    <tr>\n      <th>13309</th>\n      <td>105.594413</td>\n    </tr>\n    <tr>\n      <th>13310</th>\n      <td>49.458319</td>\n    </tr>\n    <tr>\n      <th>13311</th>\n      <td>174.547854</td>\n    </tr>\n    <tr>\n      <th>13312</th>\n      <td>56.500007</td>\n    </tr>\n    <tr>\n      <th>13313</th>\n      <td>59.160459</td>\n    </tr>\n    <tr>\n      <th>13314</th>\n      <td>102.882742</td>\n    </tr>\n    <tr>\n      <th>13315</th>\n      <td>273.564155</td>\n    </tr>\n    <tr>\n      <th>13316</th>\n      <td>340.917864</td>\n    </tr>\n    <tr>\n      <th>13317</th>\n      <td>44.486869</td>\n    </tr>\n    <tr>\n      <th>13318</th>\n      <td>340.946681</td>\n    </tr>\n    <tr>\n      <th>13319</th>\n      <td>32.590479</td>\n    </tr>\n  </tbody>\n</table>\n<p>13320 rows \u00d7 1 columns</p>\n</div>",
                        "text/plain": "                0\n0       36.817392\n1      176.634912\n2       55.936217\n3       98.801218\n4       52.458492\n5       48.545697\n6      234.476812\n7      461.159538\n8       92.976956\n9      270.401465\n10      97.201157\n11     309.933186\n12      54.244804\n13      33.755307\n14     131.561562\n15      49.893222\n16      64.093376\n17      73.243865\n18     457.185606\n19      59.119227\n20      16.300424\n21     130.377407\n22     270.079241\n23      98.791705\n24      52.013796\n25      81.963501\n26      27.917449\n27      91.383053\n28      63.779604\n29      47.461926\n...           ...\n13290  310.318596\n13291   60.803219\n13292   69.490500\n13293  226.819529\n13294  145.037950\n13295   99.761337\n13296   95.530665\n13297   40.660303\n13298   46.427298\n13299  218.178086\n13300  218.067292\n13301   82.329302\n13302   39.216660\n13303  137.849293\n13304   45.909609\n13305   72.299309\n13306  229.954395\n13307   93.475130\n13308   92.771217\n13309  105.594413\n13310   49.458319\n13311  174.547854\n13312   56.500007\n13313   59.160459\n13314  102.882742\n13315  273.564155\n13316  340.917864\n13317   44.486869\n13318  340.946681\n13319   32.590479\n\n[13320 rows x 1 columns]"
                    },
                    "execution_count": 35,
                    "metadata": {},
                    "output_type": "execute_result"
                }
            ],
            "source": "prediction = clf1.predict(X)\n#actual_prediction = np.exp(1-prediction)\ndf5=pd.DataFrame(prediction)\ndf5"
        },
        {
            "cell_type": "code",
            "execution_count": null,
            "metadata": {},
            "outputs": [],
            "source": ""
        }
    ],
    "metadata": {
        "kernelspec": {
            "display_name": "Python 3.6",
            "language": "python",
            "name": "python3"
        },
        "language_info": {
            "codemirror_mode": {
                "name": "ipython",
                "version": 3
            },
            "file_extension": ".py",
            "mimetype": "text/x-python",
            "name": "python",
            "nbconvert_exporter": "python",
            "pygments_lexer": "ipython3",
            "version": "3.6.9"
        }
    },
    "nbformat": 4,
    "nbformat_minor": 1
}